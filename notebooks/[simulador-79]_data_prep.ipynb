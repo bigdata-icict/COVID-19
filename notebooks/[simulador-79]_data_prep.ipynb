{
 "cells": [
  {
   "cell_type": "code",
   "execution_count": 7,
   "metadata": {},
   "outputs": [],
   "source": [
    "import pandas as pd\n",
    "import numpy as np"
   ]
  },
  {
   "cell_type": "code",
   "execution_count": 2,
   "metadata": {},
   "outputs": [
    {
     "name": "stderr",
     "output_type": "stream",
     "text": [
      "/home/cchenzi/.cache/pypoetry/virtualenvs/covid-19-u-n5Yp_Z-py3.8/lib/python3.8/site-packages/IPython/core/interactiveshell.py:3062: DtypeWarning: Columns (18,60,62,63,64,107,109,121,125,132,134,135,136,138) have mixed types.Specify dtype option on import or set low_memory=False.\n",
      "  has_raised = await self.run_ast_nodes(code_ast.body, cell_name,\n"
     ]
    }
   ],
   "source": [
    "comorbidades_col = ['PUERPERA', 'CARDIOPATI', 'HEMATOLOGI', 'SIND_DOWN',\n",
    "                    'HEPATICA', 'ASMA', 'DIABETES', 'NEUROLOGIC',\n",
    "                    'PNEUMOPATI', 'IMUNODEPRE', 'RENAL', 'OBESIDADE',\n",
    "                    'OBES_IMC', 'OUT_MORBI', 'MORB_DESC']\n",
    "\n",
    "df = pd.read_csv('../data/csv/risk_analysis/srag.csv')"
   ]
  },
  {
   "cell_type": "code",
   "execution_count": 5,
   "metadata": {},
   "outputs": [],
   "source": [
    "df = df[['SG_UF_INTE', 'NU_IDADE_N', 'CLASSI_FIN', 'EVOLUCAO']]"
   ]
  },
  {
   "cell_type": "code",
   "execution_count": 10,
   "metadata": {},
   "outputs": [
    {
     "name": "stderr",
     "output_type": "stream",
     "text": [
      "<ipython-input-10-be056ba5b370>:8: SettingWithCopyWarning: \n",
      "A value is trying to be set on a copy of a slice from a DataFrame.\n",
      "Try using .loc[row_indexer,col_indexer] = value instead\n",
      "\n",
      "See the caveats in the documentation: https://pandas.pydata.org/pandas-docs/stable/user_guide/indexing.html#returning-a-view-versus-a-copy\n",
      "  df['faixa_etaria'] = np.select(conditions, choices)\n"
     ]
    }
   ],
   "source": [
    "conditions = [\n",
    "    df['NU_IDADE_N'] < 20,\n",
    "    (df['NU_IDADE_N'] >= 20) & (df['NU_IDADE_N'] < 60),\n",
    "    df['NU_IDADE_N'] >= 60\n",
    "]\n",
    "choices = ['Jovem', 'Adulto', 'Idoso']\n",
    "\n",
    "df['faixa_etaria'] = np.select(conditions, choices)\n",
    "df = df.assign(obito=lambda df: (df.EVOLUCAO == 2))   "
   ]
  },
  {
   "cell_type": "code",
   "execution_count": 22,
   "metadata": {},
   "outputs": [],
   "source": [
    "df.to_csv('../data/csv/srag_filtered.csv')"
   ]
  },
  {
   "cell_type": "code",
   "execution_count": null,
   "metadata": {},
   "outputs": [],
   "source": []
  }
 ],
 "metadata": {
  "kernelspec": {
   "display_name": "Python 3",
   "language": "python",
   "name": "python3"
  },
  "language_info": {
   "codemirror_mode": {
    "name": "ipython",
    "version": 3
   },
   "file_extension": ".py",
   "mimetype": "text/x-python",
   "name": "python",
   "nbconvert_exporter": "python",
   "pygments_lexer": "ipython3",
   "version": "3.8.1"
  }
 },
 "nbformat": 4,
 "nbformat_minor": 4
}
